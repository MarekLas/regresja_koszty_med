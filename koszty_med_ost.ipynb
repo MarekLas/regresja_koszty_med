{
 "cells": [
  {
   "cell_type": "code",
   "execution_count": null,
   "id": "91cf0b9b-b18a-46b4-bf30-ee925e4f48a6",
   "metadata": {},
   "outputs": [],
   "source": [
    "import pandas as pd\n",
    "path = \"https://raw.githubusercontent.com/Kamil128/ProjektPraktycznyRegresja/main/data/car_price/car_price.csv\"\n",
    "X = pd.read_csv(path)"
   ]
  }
 ],
 "metadata": {
  "kernelspec": {
   "display_name": "Python 3 (ipykernel)",
   "language": "python",
   "name": "python3"
  },
  "language_info": {
   "codemirror_mode": {
    "name": "ipython",
    "version": 3
   },
   "file_extension": ".py",
   "mimetype": "text/x-python",
   "name": "python",
   "nbconvert_exporter": "python",
   "pygments_lexer": "ipython3",
   "version": "3.10.4"
  }
 },
 "nbformat": 4,
 "nbformat_minor": 5
}
